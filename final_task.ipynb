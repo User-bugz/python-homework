{
 "cells": [
  {
   "metadata": {},
   "cell_type": "markdown",
   "source": [
    "# Итоговое задание\n",
    "\n",
    "Есть мнение: раньше снимали настоящее кино, не то что сейчас. Ваша задача — проверить это утверждение, используя файлы с рейтингами фильмов movies_stats.csv. То есть проверить, верно ли, что с ростом года выпуска фильма средний рейтинг становится ниже.\n",
    "\n",
    "При этом мы не будем затрагивать субъективные факторы этих рейтингов, а пройдёмся по следующему алгоритму:\n",
    "\n",
    "1. В переменную years запишите список из всех годов с 1950-го по 2010-й.\n",
    "    \n",
    "2. Напишите функцию production_year, которая каждой строке из названия фильма выставляет год выпуска (год выпуска берём из столбца title). Не все названия фильмов содержат год выпуска в одинаковом формате, поэтому используйте следующий алгоритм:  \n",
    "- для каждой строки пройдите по всем годам списка years;\n",
    "- если номер года присутствует в названии фильма, то функция возвращает этот год как год выпуска;\n",
    "- если ни один из номеров года списка years не встретился в названии фильма, то возвращается 1900 год.\n",
    "\n",
    "3. Запишите год выпуска фильма по алгоритму пункта 2 в новый столбец ‘year’.\n",
    "    \n",
    "4. Посчитайте средний рейтинг всех фильмов для каждого значения столбца ‘year’ и отсортируйте результат по убыванию рейтинга.\n",
    "\n"
   ],
   "id": "1c9a645399787181"
  },
  {
   "metadata": {
    "ExecuteTime": {
     "end_time": "2024-10-20T12:07:26.744659Z",
     "start_time": "2024-10-20T12:07:21.262949Z"
    }
   },
   "cell_type": "code",
   "source": [
    "import pandas as pd\n",
    "\n",
    "movies_stats = pd.read_csv('movies_stats.csv', sep=',', encoding='utf-8')\n",
    "years = list(range(1950, 2011))\n",
    "def production_year(row):\n",
    "    for year in years:\n",
    "        if str(year) in row['title']:\n",
    "            return year\n",
    "    return 1900\n",
    "\n",
    "movies_stats['year'] = movies_stats.apply(production_year, axis=1)\n",
    "print(movies_stats)\n"
   ],
   "id": "f3b6549b2fd4f597",
   "outputs": [
    {
     "name": "stdout",
     "output_type": "stream",
     "text": [
      "        userId  movieId  rating   timestamp  \\\n",
      "0            1       31     2.5  1260759144   \n",
      "1            1     1029     3.0  1260759179   \n",
      "2            1     1061     3.0  1260759182   \n",
      "3            1     1129     2.0  1260759185   \n",
      "4            1     1172     4.0  1260759205   \n",
      "...        ...      ...     ...         ...   \n",
      "99999      671     6268     2.5  1065579370   \n",
      "100000     671     6269     4.0  1065149201   \n",
      "100001     671     6365     4.0  1070940363   \n",
      "100002     671     6385     2.5  1070979663   \n",
      "100003     671     6565     3.5  1074784724   \n",
      "\n",
      "                                                 title  \\\n",
      "0                               Dangerous Minds (1995)   \n",
      "1                                         Dumbo (1941)   \n",
      "2                                      Sleepers (1996)   \n",
      "3                          Escape from New York (1981)   \n",
      "4       Cinema Paradiso (Nuovo cinema Paradiso) (1989)   \n",
      "...                                                ...   \n",
      "99999                     Raising Victor Vargas (2002)   \n",
      "100000                                   Stevie (2002)   \n",
      "100001                     Matrix Reloaded, The (2003)   \n",
      "100002                              Whale Rider (2002)   \n",
      "100003                               Seabiscuit (2003)   \n",
      "\n",
      "                                       genres  year  \n",
      "0                                       Drama  1995  \n",
      "1            Animation|Children|Drama|Musical  1900  \n",
      "2                                    Thriller  1996  \n",
      "3            Action|Adventure|Sci-Fi|Thriller  1981  \n",
      "4                                       Drama  1989  \n",
      "...                                       ...   ...  \n",
      "99999                    Comedy|Drama|Romance  2002  \n",
      "100000                            Documentary  2002  \n",
      "100001  Action|Adventure|Sci-Fi|Thriller|IMAX  2003  \n",
      "100002                                  Drama  2002  \n",
      "100003                                  Drama  2003  \n",
      "\n",
      "[100004 rows x 7 columns]\n"
     ]
    }
   ],
   "execution_count": 1
  }
 ],
 "metadata": {
  "kernelspec": {
   "display_name": "Python 3",
   "language": "python",
   "name": "python3"
  },
  "language_info": {
   "codemirror_mode": {
    "name": "ipython",
    "version": 2
   },
   "file_extension": ".py",
   "mimetype": "text/x-python",
   "name": "python",
   "nbconvert_exporter": "python",
   "pygments_lexer": "ipython2",
   "version": "2.7.6"
  }
 },
 "nbformat": 4,
 "nbformat_minor": 5
}

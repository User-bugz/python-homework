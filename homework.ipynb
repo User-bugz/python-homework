{
 "cells": [
  {
   "metadata": {},
   "cell_type": "markdown",
   "source": "# Задания «Основы Python»",
   "id": "7845ff2694e8859b"
  },
  {
   "metadata": {},
   "cell_type": "markdown",
   "source": "## Задание по теме «Управляющие конструкции и коллекции. Часть 1»\n",
   "id": "9dc82c9dbda73d45"
  },
  {
   "metadata": {},
   "cell_type": "code",
   "source": [
    "def middle_letter(word: str) -> str:\n",
    "    length = len(word)\n",
    "    middle_index = length // 2\n",
    "\n",
    "    if length % 2 != 0:\n",
    "        return word[middle_index]\n",
    "    else:\n",
    "        return word[middle_index - 1:middle_index + 1]\n",
    "\n",
    "\n",
    "input_word = 'test'\n",
    "print(middle_letter(input_word))  #  Результат: es \n",
    "input_word = 'testing'\n",
    "print(middle_letter(input_word))  # Результат: t\n"
   ],
   "id": "d93abef3c65cb331",
   "outputs": [],
   "execution_count": null
  },
  {
   "metadata": {},
   "cell_type": "markdown",
   "source": "## Задание по теме «Управляющие конструкции и коллекции. Часть 2»\n",
   "id": "5672f0596274e9d3"
  },
  {
   "metadata": {
    "ExecuteTime": {
     "end_time": "2024-09-13T20:08:28.275634Z",
     "start_time": "2024-09-13T20:08:28.255714Z"
    }
   },
   "cell_type": "code",
   "source": [
    "def unique_values(ids: dict) -> set:\n",
    "    flattened_list = [item for sublist in ids.values() for item in sublist]\n",
    "    return set(flattened_list)\n",
    "\n",
    "\n",
    "input_ids = {'user1': [213, 213, 213, 15, 213],\n",
    "             'user2': [54, 54, 119, 119, 119],\n",
    "             'user3': [213, 98, 98, 35]}\n",
    "print(unique_values(input_ids))\n"
   ],
   "id": "832dc32516e69a06",
   "outputs": [
    {
     "name": "stdout",
     "output_type": "stream",
     "text": [
      "{98, 35, 15, 213, 54, 119}\n"
     ]
    }
   ],
   "execution_count": 2
  },
  {
   "metadata": {},
   "cell_type": "markdown",
   "source": "# Домашнее задание 2 по теме 2",
   "id": "ec948d07f9a32885"
  },
  {
   "metadata": {},
   "cell_type": "code",
   "source": [
    "documents = [\n",
    "    {'type': 'passport', 'number': '2207 876234', 'name': 'Василий Гупкин'},\n",
    "    {'type': 'invoice', 'number': '11-2', 'name': 'Геннадий Покемонов'},\n",
    "    {'type': 'insurance', 'number': '10006', 'name': 'Аристарх Павлов'}\n",
    "]\n",
    "\n",
    "directories = {\n",
    "    '1': ['2207 876234', '11-2'],\n",
    "    '2': ['10006'],\n",
    "    '3': []\n",
    "}\n",
    "\n",
    "\n",
    "def index_documents_by_number():\n",
    "    return {doc['number']: doc for doc in documents}\n",
    "\n",
    "\n",
    "def search_by_number_until_q_command():\n",
    "    indexed_documents = index_documents_by_number()\n",
    "    while (input_doc_number := input()) != 'q':\n",
    "        if input_doc_number in indexed_documents:\n",
    "            print(f\"Владелец документа: {indexed_documents[input_doc_number]['name']}\")\n",
    "        else:\n",
    "            print(\"Владелец документа не найден\")\n",
    "    print(\"q command accepted. bye...\")\n",
    "\n",
    "\n",
    "search_by_number_until_q_command()\n",
    "\n"
   ],
   "id": "e2dadb93b534ce59",
   "outputs": [],
   "execution_count": null
  },
  {
   "metadata": {},
   "cell_type": "markdown",
   "source": "# Домашнее задание 4 по теме 4 ",
   "id": "5fc8e8758b0868f0"
  },
  {
   "metadata": {
    "ExecuteTime": {
     "end_time": "2024-09-23T19:19:10.548171Z",
     "start_time": "2024-09-23T19:19:10.352615Z"
    }
   },
   "cell_type": "code",
   "source": [
    "import json\n",
    "import itertools\n",
    "\n",
    "with open('purchase_log.txt', mode='r', encoding='UTF-8') as f:\n",
    "    file_items = []\n",
    "    # skip first line\n",
    "    f.readline()\n",
    "    for line in f:\n",
    "        file_items.append(json.loads(line))\n",
    "    purchases = {item['user_id']: item['category'] for item in file_items}\n",
    "    print(list(itertools.islice(purchases.items(), 2)))"
   ],
   "id": "2f1cf1b71a83d05f",
   "outputs": [
    {
     "name": "stdout",
     "output_type": "stream",
     "text": [
      "[('1840e0b9d4', 'Продукты'), ('4e4f90fcfb', 'Электроника')]\n"
     ]
    }
   ],
   "execution_count": 9
  },
  {
   "metadata": {},
   "cell_type": "markdown",
   "source": "# Домашнее задание 5 по теме 5",
   "id": "7ba1094f53898f02"
  },
  {
   "metadata": {
    "ExecuteTime": {
     "end_time": "2024-09-30T07:50:31.708006Z",
     "start_time": "2024-09-30T07:50:31.691474Z"
    }
   },
   "cell_type": "code",
   "source": [
    "from datetime import datetime\n",
    "\n",
    "# The Moscow Times\n",
    "date_string = \"Wednesday, October 2, 2002\"\n",
    "date_object = datetime.strptime(date_string, \"%A, %B %d, %Y\").date()\n",
    "print(date_object)\n",
    "\n",
    "# The Guardian\n",
    "date_string = \"Friday, 11.10.13\"\n",
    "date_object = datetime.strptime(date_string, \"%A, %d.%m.%y\").date()\n",
    "print(date_object)\n",
    "\n",
    "# Daily News\n",
    "date_string = \"Thursday, 18 August 1977\"\n",
    "date_object = datetime.strptime(date_string, \"%A, %d %B %Y\").date()\n",
    "print(date_object)\n",
    "\n"
   ],
   "id": "796ef8adb22265f6",
   "outputs": [
    {
     "name": "stdout",
     "output_type": "stream",
     "text": [
      "2002-10-02\n",
      "2013-10-11\n",
      "1977-08-18\n"
     ]
    }
   ],
   "execution_count": 4
  },
  {
   "metadata": {},
   "cell_type": "markdown",
   "source": "# Домашнее задание 6 по теме 6",
   "id": "31eddf6b5fd074c2"
  },
  {
   "metadata": {
    "ExecuteTime": {
     "end_time": "2024-10-02T20:36:34.146159Z",
     "start_time": "2024-10-02T20:36:33.547058Z"
    }
   },
   "cell_type": "code",
   "source": [
    "import requests\n",
    "\n",
    "\n",
    "class Rate:\n",
    "    _CBR_DAILY_JSON = \"https://www.cbr-xml-daily.ru/daily_json.js\"\n",
    "    def get_max_price_currency_name(self):\n",
    "        data = self._fetch_currencies().values()\n",
    "        max_value = max(data, key=lambda x: x[\"Value\"])\n",
    "        return max_value[\"Name\"]\n",
    "        \n",
    "    def _fetch_currencies(self) -> dict:\n",
    "        response = requests.get(self._CBR_DAILY_JSON)\n",
    "        if response.status_code == 200:\n",
    "            data = response.json()\n",
    "            return data[\"Valute\"]\n",
    "        else:\n",
    "            raise Exception(f\"Failed to fetch data, status code: {response.status_code}\")\n",
    "        \n",
    "provider = Rate()\n",
    "print(provider.get_max_price_currency_name())\n",
    "\n"
   ],
   "id": "e5480d78e226dab",
   "outputs": [
    {
     "name": "stdout",
     "output_type": "stream",
     "text": [
      "СДР (специальные права заимствования)\n"
     ]
    }
   ],
   "execution_count": 4
  },
  {
   "metadata": {},
   "cell_type": "markdown",
   "source": "# Домашнее задание 7 по теме 8",
   "id": "6c43f810e8686161"
  },
  {
   "metadata": {
    "ExecuteTime": {
     "end_time": "2024-10-08T07:48:14.708098Z",
     "start_time": "2024-10-08T07:48:14.696880Z"
    }
   },
   "cell_type": "code",
   "source": [
    "import re\n",
    "\n",
    "valid_letters = \"АВЕКМНОРСТУХ\"\n",
    "valid_transport_number_regex = r'^[АВЕКМНОРСТУХ]{1}\\d{3}[АВЕКМНОРСТУХ]{2}\\d{2}$'\n",
    "def valid_rus_transport_number(number: str) -> str:\n",
    "    if re.match(valid_transport_number_regex, number) :\n",
    "        return \"Номер валиден\"\n",
    "    else:\n",
    "        return \"Номер не валиден\"\n",
    "\n",
    "print(valid_rus_transport_number(\"А222ВС96\"))\n",
    "print(valid_rus_transport_number(\"АБ22ВВ193\"))\n"
   ],
   "id": "9634ea5f2270d4",
   "outputs": [
    {
     "name": "stdout",
     "output_type": "stream",
     "text": [
      "Номер валиден\n",
      "Номер не валиден\n"
     ]
    }
   ],
   "execution_count": 3
  },
  {
   "metadata": {},
   "cell_type": "markdown",
   "source": [
    "# Домашнее задание 8 по теме 9\n",
    "\n",
    "## Задание 1"
   ],
   "id": "d7aa7c7f8e0e1cff"
  },
  {
   "metadata": {
    "ExecuteTime": {
     "end_time": "2024-10-15T15:15:05.953146Z",
     "start_time": "2024-10-15T15:15:05.905048Z"
    }
   },
   "cell_type": "code",
   "source": [
    "import pandas as pd\n",
    "\n",
    "data_movies = pd.read_csv('movies.csv')\n",
    "data_ratings = pd.read_csv('ratings.csv')\n",
    "five_star_ratings = data_ratings[data_ratings['rating'] == 5]\n",
    "merge = data_movies.merge(five_star_ratings, on='movieId', how='inner').groupby('movieId').agg({\n",
    "     'title': 'first',\n",
    "    'rating': 'count'\n",
    "}).sort_values(by = 'rating', ascending=False).head(1)\n",
    "         \n",
    "\n",
    "print(merge)"
   ],
   "id": "deef7edcf4986e17",
   "outputs": [
    {
     "name": "stdout",
     "output_type": "stream",
     "text": [
      "                                    title  rating\n",
      "movieId                                          \n",
      "318      Shawshank Redemption, The (1994)     153\n"
     ]
    }
   ],
   "execution_count": 10
  },
  {
   "metadata": {},
   "cell_type": "markdown",
   "source": [
    "# Задание 2\n",
    "По данным файла power.csv (находится в “Материалы к домашнему заданию”) посчитайте суммарное потребление стран Прибалтики (Латвия, Литва и Эстония) категорий 4, 12 и 21 за период с 2005 по 2010 год. Не учитывайте в расчётах отрицательные значения quantity.\n",
    "\n"
   ],
   "id": "f1d4bbc204443faf"
  },
  {
   "metadata": {
    "ExecuteTime": {
     "end_time": "2024-10-15T15:21:14.873726Z",
     "start_time": "2024-10-15T15:21:14.601776Z"
    }
   },
   "cell_type": "code",
   "source": [
    "import pandas as pd\n",
    "\n",
    "data = pd.read_csv('power.csv', sep=',', encoding='utf-8')\n",
    "\n",
    "data = data.query('country in [\"Latvia\", \"Estonia\", \"Lithuania\"] and category in [4, 12, 21] and year in [2005, 2006, 2007, 2008, 2009, 2010] and quantity >= 0')\n",
    "data = data.groupby('country')['quantity'].sum().reset_index()\n",
    "print(data)\n"
   ],
   "id": "c7d351fa25ae7462",
   "outputs": [
    {
     "name": "stdout",
     "output_type": "stream",
     "text": [
      "     country  quantity\n",
      "0    Estonia   63440.0\n",
      "1     Latvia   54844.0\n",
      "2  Lithuania  122296.0\n"
     ]
    }
   ],
   "execution_count": 14
  }
 ],
 "metadata": {
  "kernelspec": {
   "display_name": "Python 3",
   "language": "python",
   "name": "python3"
  },
  "language_info": {
   "codemirror_mode": {
    "name": "ipython",
    "version": 2
   },
   "file_extension": ".py",
   "mimetype": "text/x-python",
   "name": "python",
   "nbconvert_exporter": "python",
   "pygments_lexer": "ipython2",
   "version": "2.7.6"
  }
 },
 "nbformat": 4,
 "nbformat_minor": 5
}

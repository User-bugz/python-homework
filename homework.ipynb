{
 "cells": [
  {
   "metadata": {},
   "cell_type": "markdown",
   "source": [
    "# Задания Адаптационный Курс\n",
    "## Задание по теме «Основы Python»"
   ],
   "id": "7845ff2694e8859b"
  },
  {
   "metadata": {},
   "cell_type": "code",
   "outputs": [],
   "execution_count": null,
   "source": [
    "def is_leap_year(year: int) -> bool:\n",
    "    return year % 4 == 0 and (year % 100 != 0 or year % 400 == 0)\n",
    "\n",
    "\n",
    "def print_is_leap_year(year: int) -> None:\n",
    "    if is_leap_year(year):\n",
    "        print(\"Високосный год\")\n",
    "    else:\n",
    "        print(\"Обычный год\")\n",
    "\n",
    "\n",
    "input_year = 2019\n",
    "print_is_leap_year(input_year)"
   ],
   "id": "c013caeba092a6f3"
  },
  {
   "metadata": {},
   "cell_type": "markdown",
   "source": "## Задание по теме «Управляющие конструкции и коллекции. Часть 1»\n",
   "id": "9dc82c9dbda73d45"
  },
  {
   "metadata": {
    "ExecuteTime": {
     "end_time": "2024-09-06T11:51:55.467095Z",
     "start_time": "2024-09-06T11:51:55.459553Z"
    }
   },
   "cell_type": "code",
   "source": [
    "def middle_letter(word: str) -> str:\n",
    "    length = len(word)\n",
    "    middle_index = length // 2\n",
    "\n",
    "    if length % 2 != 0:\n",
    "        return word[middle_index]\n",
    "    else:\n",
    "        return word[middle_index - 1:middle_index + 1]\n",
    "\n",
    "\n",
    "input_word = 'test'\n",
    "print(middle_letter(input_word))  #  Результат: es \n",
    "input_word = 'testing'\n",
    "print(middle_letter(input_word))  # Результат: t\n"
   ],
   "id": "d93abef3c65cb331",
   "outputs": [
    {
     "name": "stdout",
     "output_type": "stream",
     "text": [
      "es\n",
      "t\n"
     ]
    }
   ],
   "execution_count": 4
  },
  {
   "metadata": {},
   "cell_type": "markdown",
   "source": "",
   "id": "5672f0596274e9d3"
  }
 ],
 "metadata": {
  "kernelspec": {
   "display_name": "Python 3",
   "language": "python",
   "name": "python3"
  },
  "language_info": {
   "codemirror_mode": {
    "name": "ipython",
    "version": 2
   },
   "file_extension": ".py",
   "mimetype": "text/x-python",
   "name": "python",
   "nbconvert_exporter": "python",
   "pygments_lexer": "ipython2",
   "version": "2.7.6"
  }
 },
 "nbformat": 4,
 "nbformat_minor": 5
}

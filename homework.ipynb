{
 "cells": [
  {
   "metadata": {},
   "cell_type": "markdown",
   "source": [
    "# Задания Адаптационный Курс\n",
    "## Задание по теме «Основы Python»\n",
    " "
   ],
   "id": "7845ff2694e8859b"
  },
  {
   "metadata": {
    "ExecuteTime": {
     "end_time": "2024-09-06T11:23:45.408965Z",
     "start_time": "2024-09-06T11:23:45.403790Z"
    }
   },
   "cell_type": "code",
   "source": [
    "def is_leap_year(year: int) -> bool:\n",
    "    return year % 4 == 0 and (year % 100 != 0 or year % 400 == 0)\n",
    "\n",
    "def print_is_leap_year(year: int) -> None:\n",
    "    if is_leap_year(year):\n",
    "        print(\"Високосный год\")\n",
    "    else:\n",
    "        print(\"Обычный год\")\n",
    "\n",
    "input_year = 2019\n",
    "print_is_leap_year(input_year)"
   ],
   "id": "ac87bc0036231a10",
   "outputs": [
    {
     "name": "stdout",
     "output_type": "stream",
     "text": [
      "Обычный год\n"
     ]
    }
   ],
   "execution_count": 3
  },
  {
   "metadata": {},
   "cell_type": "markdown",
   "source": "## Задание по теме «Управляющие конструкции и коллекции. Часть 1»\n",
   "id": "9dc82c9dbda73d45"
  }
 ],
 "metadata": {
  "kernelspec": {
   "display_name": "Python 3",
   "language": "python",
   "name": "python3"
  },
  "language_info": {
   "codemirror_mode": {
    "name": "ipython",
    "version": 2
   },
   "file_extension": ".py",
   "mimetype": "text/x-python",
   "name": "python",
   "nbconvert_exporter": "python",
   "pygments_lexer": "ipython2",
   "version": "2.7.6"
  }
 },
 "nbformat": 4,
 "nbformat_minor": 5
}

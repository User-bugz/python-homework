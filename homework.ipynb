{
 "cells": [
  {
   "metadata": {},
   "cell_type": "markdown",
   "source": "# Задания «Основы Python»",
   "id": "7845ff2694e8859b"
  },
  {
   "metadata": {},
   "cell_type": "markdown",
   "source": "## Задание по теме «Управляющие конструкции и коллекции. Часть 1»\n",
   "id": "9dc82c9dbda73d45"
  },
  {
   "metadata": {},
   "cell_type": "code",
   "source": [
    "def middle_letter(word: str) -> str:\n",
    "    length = len(word)\n",
    "    middle_index = length // 2\n",
    "\n",
    "    if length % 2 != 0:\n",
    "        return word[middle_index]\n",
    "    else:\n",
    "        return word[middle_index - 1:middle_index + 1]\n",
    "\n",
    "\n",
    "input_word = 'test'\n",
    "print(middle_letter(input_word))  #  Результат: es \n",
    "input_word = 'testing'\n",
    "print(middle_letter(input_word))  # Результат: t\n"
   ],
   "id": "d93abef3c65cb331",
   "outputs": [],
   "execution_count": null
  },
  {
   "metadata": {},
   "cell_type": "markdown",
   "source": "## Задание по теме «Управляющие конструкции и коллекции. Часть 2»\n",
   "id": "5672f0596274e9d3"
  },
  {
   "metadata": {
    "ExecuteTime": {
     "end_time": "2024-09-13T20:08:28.275634Z",
     "start_time": "2024-09-13T20:08:28.255714Z"
    }
   },
   "cell_type": "code",
   "source": [
    "def unique_values(ids: dict) -> set:\n",
    "    flattened_list = [item for sublist in ids.values() for item in sublist]\n",
    "    return set(flattened_list)\n",
    "\n",
    "\n",
    "input_ids = {'user1': [213, 213, 213, 15, 213],\n",
    "             'user2': [54, 54, 119, 119, 119],\n",
    "             'user3': [213, 98, 98, 35]}\n",
    "print(unique_values(input_ids))\n"
   ],
   "id": "832dc32516e69a06",
   "outputs": [
    {
     "name": "stdout",
     "output_type": "stream",
     "text": [
      "{98, 35, 15, 213, 54, 119}\n"
     ]
    }
   ],
   "execution_count": 2
  },
  {
   "metadata": {},
   "cell_type": "markdown",
   "source": "# Домашнее задание 2 по теме 2",
   "id": "ec948d07f9a32885"
  },
  {
   "metadata": {},
   "cell_type": "code",
   "source": [
    "documents = [\n",
    "    {'type': 'passport', 'number': '2207 876234', 'name': 'Василий Гупкин'},\n",
    "    {'type': 'invoice', 'number': '11-2', 'name': 'Геннадий Покемонов'},\n",
    "    {'type': 'insurance', 'number': '10006', 'name': 'Аристарх Павлов'}\n",
    "]\n",
    "\n",
    "directories = {\n",
    "    '1': ['2207 876234', '11-2'],\n",
    "    '2': ['10006'],\n",
    "    '3': []\n",
    "}\n",
    "\n",
    "\n",
    "def index_documents_by_number():\n",
    "    return {doc['number']: doc for doc in documents}\n",
    "\n",
    "\n",
    "def search_by_number_until_q_command():\n",
    "    indexed_documents = index_documents_by_number()\n",
    "    while (input_doc_number := input()) != 'q':\n",
    "        if input_doc_number in indexed_documents:\n",
    "            print(f\"Владелец документа: {indexed_documents[input_doc_number]['name']}\")\n",
    "        else:\n",
    "            print(\"Владелец документа не найден\")\n",
    "    print(\"q command accepted. bye...\")\n",
    "\n",
    "\n",
    "search_by_number_until_q_command()\n",
    "\n"
   ],
   "id": "e2dadb93b534ce59",
   "outputs": [],
   "execution_count": null
  },
  {
   "metadata": {},
   "cell_type": "markdown",
   "source": "# Домашнее задание 4 по теме 4 ",
   "id": "5fc8e8758b0868f0"
  },
  {
   "metadata": {
    "ExecuteTime": {
     "end_time": "2024-09-23T19:19:10.548171Z",
     "start_time": "2024-09-23T19:19:10.352615Z"
    }
   },
   "cell_type": "code",
   "source": [
    "import json\n",
    "import itertools\n",
    "\n",
    "with open('purchase_log.txt', mode='r', encoding='UTF-8') as f:\n",
    "    file_items = []\n",
    "    # skip first line\n",
    "    f.readline()\n",
    "    for line in f:\n",
    "        file_items.append(json.loads(line))\n",
    "    purchases = {item['user_id']: item['category'] for item in file_items}\n",
    "    print(list(itertools.islice(purchases.items(), 2)))"
   ],
   "id": "2f1cf1b71a83d05f",
   "outputs": [
    {
     "name": "stdout",
     "output_type": "stream",
     "text": [
      "[('1840e0b9d4', 'Продукты'), ('4e4f90fcfb', 'Электроника')]\n"
     ]
    }
   ],
   "execution_count": 9
  },
  {
   "metadata": {},
   "cell_type": "markdown",
   "source": "# Домашнее задание 5 по теме 5",
   "id": "7ba1094f53898f02"
  },
  {
   "metadata": {
    "ExecuteTime": {
     "end_time": "2024-09-30T07:50:31.708006Z",
     "start_time": "2024-09-30T07:50:31.691474Z"
    }
   },
   "cell_type": "code",
   "source": [
    "from datetime import datetime\n",
    "\n",
    "# The Moscow Times\n",
    "date_string = \"Wednesday, October 2, 2002\"\n",
    "date_object = datetime.strptime(date_string, \"%A, %B %d, %Y\").date()\n",
    "print(date_object)\n",
    "\n",
    "# The Guardian\n",
    "date_string = \"Friday, 11.10.13\"\n",
    "date_object = datetime.strptime(date_string, \"%A, %d.%m.%y\").date()\n",
    "print(date_object)\n",
    "\n",
    "# Daily News\n",
    "date_string = \"Thursday, 18 August 1977\"\n",
    "date_object = datetime.strptime(date_string, \"%A, %d %B %Y\").date()\n",
    "print(date_object)\n",
    "\n"
   ],
   "id": "796ef8adb22265f6",
   "outputs": [
    {
     "name": "stdout",
     "output_type": "stream",
     "text": [
      "2002-10-02\n",
      "2013-10-11\n",
      "1977-08-18\n"
     ]
    }
   ],
   "execution_count": 4
  },
  {
   "metadata": {},
   "cell_type": "markdown",
   "source": "# Домашнее задание 6 по теме 6",
   "id": "31eddf6b5fd074c2"
  },
  {
   "metadata": {
    "ExecuteTime": {
     "end_time": "2024-10-02T20:36:34.146159Z",
     "start_time": "2024-10-02T20:36:33.547058Z"
    }
   },
   "cell_type": "code",
   "source": [
    "import requests\n",
    "\n",
    "\n",
    "class Rate:\n",
    "    _CBR_DAILY_JSON = \"https://www.cbr-xml-daily.ru/daily_json.js\"\n",
    "    def get_max_price_currency_name(self):\n",
    "        data = self._fetch_currencies().values()\n",
    "        max_value = max(data, key=lambda x: x[\"Value\"])\n",
    "        return max_value[\"Name\"]\n",
    "        \n",
    "    def _fetch_currencies(self) -> dict:\n",
    "        response = requests.get(self._CBR_DAILY_JSON)\n",
    "        if response.status_code == 200:\n",
    "            data = response.json()\n",
    "            return data[\"Valute\"]\n",
    "        else:\n",
    "            raise Exception(f\"Failed to fetch data, status code: {response.status_code}\")\n",
    "        \n",
    "provider = Rate()\n",
    "print(provider.get_max_price_currency_name())\n",
    "\n"
   ],
   "id": "e5480d78e226dab",
   "outputs": [
    {
     "name": "stdout",
     "output_type": "stream",
     "text": [
      "СДР (специальные права заимствования)\n"
     ]
    }
   ],
   "execution_count": 4
  },
  {
   "metadata": {},
   "cell_type": "markdown",
   "source": "# Домашнее задание 7 по теме 8",
   "id": "6c43f810e8686161"
  },
  {
   "metadata": {
    "ExecuteTime": {
     "end_time": "2024-10-08T07:48:14.708098Z",
     "start_time": "2024-10-08T07:48:14.696880Z"
    }
   },
   "cell_type": "code",
   "source": [
    "import re\n",
    "\n",
    "valid_letters = \"АВЕКМНОРСТУХ\"\n",
    "valid_transport_number_regex = r'^[АВЕКМНОРСТУХ]{1}\\d{3}[АВЕКМНОРСТУХ]{2}\\d{2}$'\n",
    "def valid_rus_transport_number(number: str) -> str:\n",
    "    if re.match(valid_transport_number_regex, number) :\n",
    "        return \"Номер валиден\"\n",
    "    else:\n",
    "        return \"Номер не валиден\"\n",
    "\n",
    "print(valid_rus_transport_number(\"А222ВС96\"))\n",
    "print(valid_rus_transport_number(\"АБ22ВВ193\"))\n"
   ],
   "id": "9634ea5f2270d4",
   "outputs": [
    {
     "name": "stdout",
     "output_type": "stream",
     "text": [
      "Номер валиден\n",
      "Номер не валиден\n"
     ]
    }
   ],
   "execution_count": 3
  },
  {
   "metadata": {},
   "cell_type": "markdown",
   "source": [
    "# Домашнее задание 8 по теме 9\n",
    "\n",
    "## Задание 1"
   ],
   "id": "d7aa7c7f8e0e1cff"
  },
  {
   "metadata": {
    "ExecuteTime": {
     "end_time": "2024-10-15T15:15:05.953146Z",
     "start_time": "2024-10-15T15:15:05.905048Z"
    }
   },
   "cell_type": "code",
   "source": [
    "import pandas as pd\n",
    "\n",
    "data_movies = pd.read_csv('movies.csv')\n",
    "data_ratings = pd.read_csv('ratings.csv')\n",
    "five_star_ratings = data_ratings[data_ratings['rating'] == 5]\n",
    "merge = data_movies.merge(five_star_ratings, on='movieId', how='inner').groupby('movieId').agg({\n",
    "     'title': 'first',\n",
    "    'rating': 'count'\n",
    "}).sort_values(by = 'rating', ascending=False).head(1)\n",
    "         \n",
    "\n",
    "print(merge)"
   ],
   "id": "deef7edcf4986e17",
   "outputs": [
    {
     "name": "stdout",
     "output_type": "stream",
     "text": [
      "                                    title  rating\n",
      "movieId                                          \n",
      "318      Shawshank Redemption, The (1994)     153\n"
     ]
    }
   ],
   "execution_count": 10
  },
  {
   "metadata": {},
   "cell_type": "markdown",
   "source": [
    "# Задание 2\n",
    "По данным файла power.csv (находится в “Материалы к домашнему заданию”) посчитайте суммарное потребление стран Прибалтики (Латвия, Литва и Эстония) категорий 4, 12 и 21 за период с 2005 по 2010 год. Не учитывайте в расчётах отрицательные значения quantity.\n",
    "\n"
   ],
   "id": "f1d4bbc204443faf"
  },
  {
   "metadata": {
    "ExecuteTime": {
     "end_time": "2024-10-15T15:21:14.873726Z",
     "start_time": "2024-10-15T15:21:14.601776Z"
    }
   },
   "cell_type": "code",
   "source": [
    "import pandas as pd\n",
    "\n",
    "data = pd.read_csv('power.csv', sep=',', encoding='utf-8')\n",
    "\n",
    "data = data.query('country in [\"Latvia\", \"Estonia\", \"Lithuania\"] and category in [4, 12, 21] and year in [2005, 2006, 2007, 2008, 2009, 2010] and quantity >= 0')\n",
    "data = data.groupby('country')['quantity'].sum().reset_index()\n",
    "print(data)\n"
   ],
   "id": "c7d351fa25ae7462",
   "outputs": [
    {
     "name": "stdout",
     "output_type": "stream",
     "text": [
      "     country  quantity\n",
      "0    Estonia   63440.0\n",
      "1     Latvia   54844.0\n",
      "2  Lithuania  122296.0\n"
     ]
    }
   ],
   "execution_count": 14
  },
  {
   "metadata": {},
   "cell_type": "markdown",
   "source": [
    "# Домашнее задание 9 по теме 10\n",
    "\n",
    "## Задание 1\n",
    "Напишите функцию, которая классифицирует фильмы из материалов занятия по правилам:\n",
    "\n",
    "оценка 2 и ниже — низкий рейтинг;\n",
    "оценка 4 и ниже — средний рейтинг;\n",
    "оценка 4.5 и 5 — высокий рейтинг.\n",
    "Результат классификации запишите в столбец class.\n"
   ],
   "id": "d6933aa5c6a58a68"
  },
  {
   "metadata": {
    "ExecuteTime": {
     "end_time": "2024-10-20T11:40:25.803454Z",
     "start_time": "2024-10-20T11:40:25.313673Z"
    }
   },
   "cell_type": "code",
   "source": [
    "import pandas as pd\n",
    "\n",
    "\n",
    "def rating_class(row):\n",
    "    if row['rating'] <= 2:\n",
    "        return 'низкий рейтинг'\n",
    "    elif row['rating'] <= 4:\n",
    "        return 'средний рейтинг'\n",
    "    else:\n",
    "        return 'высокий рейтинг'\n",
    "\n",
    "data = pd.read_csv('ml-latest-small/ratings.csv', sep=',', encoding='utf-8')\n",
    "data['class'] = data.apply(rating_class, axis=1)\n",
    "print(data) "
   ],
   "id": "ab200fdffb3f784",
   "outputs": [
    {
     "name": "stdout",
     "output_type": "stream",
     "text": [
      "        userId  movieId  rating   timestamp            class\n",
      "0            1       31     2.5  1260759144  средний рейтинг\n",
      "1            1     1029     3.0  1260759179  средний рейтинг\n",
      "2            1     1061     3.0  1260759182  средний рейтинг\n",
      "3            1     1129     2.0  1260759185   низкий рейтинг\n",
      "4            1     1172     4.0  1260759205  средний рейтинг\n",
      "...        ...      ...     ...         ...              ...\n",
      "99999      671     6268     2.5  1065579370  средний рейтинг\n",
      "100000     671     6269     4.0  1065149201  средний рейтинг\n",
      "100001     671     6365     4.0  1070940363  средний рейтинг\n",
      "100002     671     6385     2.5  1070979663  средний рейтинг\n",
      "100003     671     6565     3.5  1074784724  средний рейтинг\n",
      "\n",
      "[100004 rows x 5 columns]\n"
     ]
    }
   ],
   "execution_count": 2
  },
  {
   "metadata": {},
   "cell_type": "markdown",
   "source": [
    "# Задание 2\n",
    "Используйте файл keywords.csv.\n",
    "\n",
    "Нужно написать гео-классификатор, который каждой строке сможет выставить географическую  надлежность определённому региону. Т.е. если поисковый запрос содержит название города региона, то в столбце ‘region’ пишется название этого региона. Если поисковый запрос не содержит названия города, то ставим ‘undefined’.\n",
    "\n",
    "Правила распределения по регионам Центр, Северо-Запад и Дальний Восток:\n",
    "```pyton\n",
    "geo_data = {\n",
    "    'Центр': ['москва', 'тула', 'ярославль'],\n",
    "    'Северо-Запад': ['петербург', 'псков', 'мурманск'],\n",
    "    'Дальний Восток': ['владивосток', 'сахалин', 'хабаровск']\n",
    "}\n",
    "```\n",
    "Результат классификации запишите в отдельный столбец region.\n"
   ],
   "id": "14d3ec599e70de79"
  },
  {
   "metadata": {
    "ExecuteTime": {
     "end_time": "2024-10-20T11:54:51.263434Z",
     "start_time": "2024-10-20T11:54:50.789717Z"
    }
   },
   "cell_type": "code",
   "source": [
    "import pandas as pd\n",
    "import re\n",
    "\n",
    "geo_data = {\n",
    "    'Центр': ['москва', 'тула', 'ярославль'],\n",
    "    'Северо-Запад': ['петербург', 'псков', 'мурманск'],\n",
    "    'Дальний Восток': ['владивосток', 'сахалин', 'хабаровск']\n",
    "}\n",
    "reverted_geo_data = {\n",
    "    'москва': 'Центр',\n",
    "    'тула': 'Центр',\n",
    "    'ярославль': 'Центр',\n",
    "    'петербург': 'Северо-Запад',\n",
    "    'псков': 'Северо-Запад',\n",
    "    'мурманск': 'Северо-Запад',\n",
    "    'владивосток': 'Дальний Восток',\n",
    "    'сахалин': 'Дальний Восток',\n",
    "    'хабаровск': 'Дальний Восток'\n",
    "}\n",
    "\n",
    "def keyword_region(row):\n",
    "    keyword = row['keyword'].lower()\n",
    "    for key in reverted_geo_data.keys():\n",
    "        if key in keyword:\n",
    "            return reverted_geo_data[key]\n",
    "    return 'undefined'\n",
    "\n",
    "data = pd.read_csv('ml-latest-small/keywords.csv', sep=',', encoding='utf-8')\n",
    "data['region'] = data.apply(keyword_region, axis=1)\n",
    "\n",
    "print(data.query('region != \"undefined\"'))\n",
    "# all data\n",
    "print(data)\n"
   ],
   "id": "d034e9315a2e94a1",
   "outputs": [
    {
     "name": "stdout",
     "output_type": "stream",
     "text": [
      "                                     keyword   shows          region\n",
      "127                             авито москва  979292           Центр\n",
      "370                 авито ру санкт петербург  425134    Северо-Запад\n",
      "564                погода в санкт петербурге  292489    Северо-Запад\n",
      "849                          авито ярославль  209581           Центр\n",
      "1063                     фарпост владивосток  176951  Дальний Восток\n",
      "...                                      ...     ...             ...\n",
      "99590  авито ярославль автомобили с пробегом    3673           Центр\n",
      "99634   северпост новости мурманской области    3606    Северо-Запад\n",
      "99808      полармед мурманск запись на прием    3719    Северо-Запад\n",
      "99890                    яндекс метро москва    4548           Центр\n",
      "99922                      авто ру ярославль    3712           Центр\n",
      "\n",
      "[747 rows x 3 columns]\n",
      "                       keyword     shows     region\n",
      "0                           вк  64292779  undefined\n",
      "1                одноклассники  63810309  undefined\n",
      "2                        порно  41747114  undefined\n",
      "3                         ютуб  39995567  undefined\n",
      "4                    вконтакте  21014195  undefined\n",
      "...                        ...       ...        ...\n",
      "99995   эльдорадо старый оскол      3705  undefined\n",
      "99996      frigate для firefox      3630  undefined\n",
      "99997                   укрсиб      3630  undefined\n",
      "99998  погода в ялте на неделю      3688  undefined\n",
      "99999                     ггму      3630  undefined\n",
      "\n",
      "[100000 rows x 3 columns]\n"
     ]
    }
   ],
   "execution_count": 9
  }
 ],
 "metadata": {
  "kernelspec": {
   "display_name": "Python 3",
   "language": "python",
   "name": "python3"
  },
  "language_info": {
   "codemirror_mode": {
    "name": "ipython",
    "version": 2
   },
   "file_extension": ".py",
   "mimetype": "text/x-python",
   "name": "python",
   "nbconvert_exporter": "python",
   "pygments_lexer": "ipython2",
   "version": "2.7.6"
  }
 },
 "nbformat": 4,
 "nbformat_minor": 5
}
